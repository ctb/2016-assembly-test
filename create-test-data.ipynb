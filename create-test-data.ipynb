{
 "cells": [
  {
   "cell_type": "code",
   "execution_count": 1,
   "metadata": {
    "collapsed": true
   },
   "outputs": [],
   "source": [
    "import random\n",
    "\n",
    "def make_random_genome(L):\n",
    "    L = int(1e5)\n",
    "    nt = ['A', 'C', 'T', 'G']\n",
    "\n",
    "    genome = nt*(L/4)\n",
    "    random.shuffle(genome)\n",
    "    genome = \"\".join(genome)\n",
    "    return genome\n",
    "\n",
    "def make_contigs(genome, ivals):\n",
    "    x = []\n",
    "    for (start, length) in ivals:\n",
    "        assert start >= 0 and start < len(genome)\n",
    "        contig = genome[start:start + length]\n",
    "        x.append(contig)\n",
    "    return x\n",
    "\n",
    "def write_genome_and_contigs(dirname, genomes, contigs):\n",
    "    import os, shutil\n",
    "    shutil.rmtree(dirname, ignore_errors=True)\n",
    "    os.mkdir(dirname)\n",
    "    \n",
    "    fp = open('%s/genome.fa' % (dirname,), 'w')\n",
    "    for n, genome in enumerate(genomes):\n",
    "        print >>fp, \">genome%d\\n%s\" % (n, genome,)\n",
    "    fp.close()\n",
    "\n",
    "    fp = open('%s/contigs.fa' % (dirname,), 'w')\n",
    "    for i in range(len(contigs)):\n",
    "        print >>fp, \">contig%d\\n%s\" % (i, contigs[i])\n",
    "    fp.close()"
   ]
  },
  {
   "cell_type": "markdown",
   "metadata": {},
   "source": [
    "# test1"
   ]
  },
  {
   "cell_type": "code",
   "execution_count": 2,
   "metadata": {
    "collapsed": false
   },
   "outputs": [],
   "source": [
    "L2 = 10000\n",
    "\n",
    "genome = make_random_genome(1e5)\n",
    "\n",
    "contig_ivals = [(10000, L2), (50000, L2)]\n",
    "contigs = make_contigs(genome, contig_ivals)\n",
    "write_genome_and_contigs('test1', [genome], contigs)"
   ]
  },
  {
   "cell_type": "code",
   "execution_count": 3,
   "metadata": {
    "collapsed": true
   },
   "outputs": [],
   "source": [
    "# run QUAST here"
   ]
  },
  {
   "cell_type": "code",
   "execution_count": 4,
   "metadata": {
    "collapsed": false
   },
   "outputs": [
    {
     "name": "stdout",
     "output_type": "stream",
     "text": [
      "Uncovered Regions: 0 (0)\n",
      "Unaligned Contigs: 0 + 0 part\n",
      "\n"
     ]
    }
   ],
   "source": [
    "outfilename = 'test1_out/contigs_reports/contigs_report_contigs.stdout'\n",
    "out = open(outfilename).read()\n",
    "start = out.find('Uncovered Regions')\n",
    "print out[start:start+55]"
   ]
  },
  {
   "cell_type": "markdown",
   "metadata": {},
   "source": [
    "# test2"
   ]
  },
  {
   "cell_type": "code",
   "execution_count": 5,
   "metadata": {
    "collapsed": false
   },
   "outputs": [],
   "source": [
    "L2 = 10000\n",
    "\n",
    "genome1 = make_random_genome(1e5)\n",
    "genome2 = make_random_genome(1e5)\n",
    "genome3 = make_random_genome(1e5)\n",
    "\n",
    "contig_ivals = [(10000, L2), (50000, L2)]\n",
    "contigs = make_contigs(genome1, contig_ivals)\n",
    "contigs.extend(make_contigs(genome2, contig_ivals))\n",
    "\n",
    "# make a contig that is erroneous --\n",
    "last_contig = contigs[-1]\n",
    "contigs = contigs[:-1]\n",
    "last_contig = last_contig[L2/2:] + last_contig[:L2/2]\n",
    "contigs.append(last_contig)\n",
    "\n",
    "# make a contig that aligns to nothing at all\n",
    "noalign = make_random_genome(L2)\n",
    "contigs.append(noalign)\n",
    "\n",
    "# make a contig part of which aligns to nothing.\n",
    "noalign = make_random_genome(L2/2)\n",
    "contigs[0] = noalign + contigs[0][:L2/2]\n",
    "\n",
    "write_genome_and_contigs('test2', [genome1, genome2, genome3], contigs)"
   ]
  },
  {
   "cell_type": "code",
   "execution_count": 6,
   "metadata": {
    "collapsed": true
   },
   "outputs": [],
   "source": [
    "# run QUAST here"
   ]
  },
  {
   "cell_type": "code",
   "execution_count": 7,
   "metadata": {
    "collapsed": false
   },
   "outputs": [
    {
     "name": "stdout",
     "output_type": "stream",
     "text": [
      "Uncovered Regions: 0 (0)\n",
      "Unaligned Contigs: 1 + 1 part\n",
      "\n"
     ]
    }
   ],
   "source": [
    "outfilename = 'test2_out/contigs_reports/contigs_report_contigs.stdout'\n",
    "out = open(outfilename).read()\n",
    "start = out.find('Uncovered Regions')\n",
    "print out[start:start+55]"
   ]
  },
  {
   "cell_type": "code",
   "execution_count": null,
   "metadata": {
    "collapsed": true
   },
   "outputs": [],
   "source": []
  }
 ],
 "metadata": {
  "kernelspec": {
   "display_name": "Python 2",
   "language": "python",
   "name": "python2"
  },
  "language_info": {
   "codemirror_mode": {
    "name": "ipython",
    "version": 2
   },
   "file_extension": ".py",
   "mimetype": "text/x-python",
   "name": "python",
   "nbconvert_exporter": "python",
   "pygments_lexer": "ipython2",
   "version": "2.7.3"
  }
 },
 "nbformat": 4,
 "nbformat_minor": 0
}
