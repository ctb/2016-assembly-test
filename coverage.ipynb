{
 "cells": [
  {
   "cell_type": "code",
   "execution_count": 1,
   "metadata": {
    "collapsed": false
   },
   "outputs": [],
   "source": [
    "import numpy\n",
    "import screed"
   ]
  },
  {
   "cell_type": "code",
   "execution_count": 2,
   "metadata": {
    "collapsed": true
   },
   "outputs": [],
   "source": [
    "def load_refsizes(filename):\n",
    "    d = {}\n",
    "    for record in screed.open(filename):\n",
    "        d[record.name.split()[0]] = len(record.sequence)\n",
    "    return d"
   ]
  },
  {
   "cell_type": "code",
   "execution_count": 3,
   "metadata": {
    "collapsed": false
   },
   "outputs": [],
   "source": [
    "def load_coords(filename):\n",
    "    lines = [ x.strip() for x in (open(filename)) ]\n",
    "    assert lines[1].startswith('NUCMER'), lines[0]\n",
    "    \n",
    "    coords = []\n",
    "    for line_no in range(5, len(lines)):\n",
    "        line = lines[line_no].split()\n",
    "        s1, e1 = int(line[0]), int(line[1])\n",
    "        s2, e2 = int(line[3]), int(line[4])\n",
    "        ident = float(line[9])\n",
    "        name1, name2 = line[11], line[12]\n",
    "        s1, e1 = min(s1, e1), max(s1, e1)\n",
    "        s2, e2 = min(s2, e2), max(s2, e2)\n",
    "        coords.append((s1, e1, s2, e2, ident, name1, name2))\n",
    "    return coords\n",
    "\n"
   ]
  },
  {
   "cell_type": "code",
   "execution_count": 4,
   "metadata": {
    "collapsed": true
   },
   "outputs": [],
   "source": [
    "IDENT_THRESHOLD = 99\n",
    "LENGTH_THRESHOLD = 100\n",
    "\n",
    "def make_covered_ivals(refsizes, coords):\n",
    "    # let's make some intervals\n",
    "    ivals = {}\n",
    "    for genome in refsizes:\n",
    "        ivals[genome] = numpy.zeros(refsizes[genome])\n",
    "\n",
    "    # now fill in the intervals with what is covered by a nucmer alignment\n",
    "    for s1, e1, s2, e2, ident, name1, name2 in coords:\n",
    "        if ident < IDENT_THRESHOLD or e2 - s2 < LENGTH_THRESHOLD:\n",
    "            continue\n",
    "        genome = ivals[name1]\n",
    "        genome[s1 - 1:e1] = numpy.ones(e1 - s1 + 1)\n",
    "        \n",
    "    return ivals\n"
   ]
  },
  {
   "cell_type": "code",
   "execution_count": 5,
   "metadata": {
    "collapsed": true
   },
   "outputs": [],
   "source": [
    "def calc_coverage(ivals):\n",
    "    covered = 0.\n",
    "    total = 0.\n",
    "    for k, v in ivals.items():\n",
    "        t = len(v)\n",
    "        c = sum(v)\n",
    "        total += t\n",
    "        covered += c\n",
    "        #if c / t < .9: # print names of genomes with less than 90% coverage\n",
    "        #    print k, c/t\n",
    "\n",
    "    return covered/total"
   ]
  },
  {
   "cell_type": "code",
   "execution_count": 6,
   "metadata": {
    "collapsed": true
   },
   "outputs": [],
   "source": [
    "WINDOW=100\n",
    "\n",
    "def _return_uncovered(cov):\n",
    "    length = len(cov)\n",
    "    cov2 = numpy.zeros(length)\n",
    "    for i in numpy.where(cov == 0)[0]: # find all uncovered bases\n",
    "        j = i\n",
    "        # iterate from first uncovered base until you find covered,\n",
    "        while j < length and cov[j] == 0 \\\n",
    "                and cov2[j] == 0:  # OR you discover that we've already seen this one\n",
    "            j += 1\n",
    "\n",
    "        if j - i >= WINDOW:                  # where length of uncovered region big enough, set cov2\n",
    "            cov2[i:j] = numpy.ones(j - i)    # this is the interval of the uncovered region\n",
    "\n",
    "    return cov2\n",
    "\n",
    "def make_uncovered_ivals(ivals):\n",
    "    e = {}\n",
    "    for k, v in ivals.items():\n",
    "        e[k] = _return_uncovered(v)\n",
    "    return e"
   ]
  },
  {
   "cell_type": "code",
   "execution_count": 7,
   "metadata": {
    "collapsed": false
   },
   "outputs": [],
   "source": [
    "megahit_coords = load_coords('megahit.coords')\n",
    "idba_coords = load_coords('idba.coords')\n",
    "refsizes = load_refsizes('mircea.fa')"
   ]
  },
  {
   "cell_type": "code",
   "execution_count": 8,
   "metadata": {
    "collapsed": false
   },
   "outputs": [
    {
     "name": "stdout",
     "output_type": "stream",
     "text": [
      "megahit\n",
      "idba\n",
      "done\n"
     ]
    }
   ],
   "source": [
    "print 'megahit'\n",
    "megahit_ivals = make_covered_ivals(refsizes, megahit_coords)\n",
    "print 'idba'\n",
    "idba_ivals = make_covered_ivals(refsizes, idba_coords)\n",
    "print 'done'"
   ]
  },
  {
   "cell_type": "code",
   "execution_count": 9,
   "metadata": {
    "collapsed": false
   },
   "outputs": [
    {
     "name": "stdout",
     "output_type": "stream",
     "text": [
      "megahit2\n",
      "idba2\n",
      "done\n"
     ]
    }
   ],
   "source": [
    "print 'megahit2'\n",
    "megahit_ivals_uncov = make_uncovered_ivals(megahit_ivals)\n",
    "print 'idba2'\n",
    "idba_ivals_uncov = make_uncovered_ivals(idba_ivals)\n",
    "print 'done'"
   ]
  },
  {
   "cell_type": "code",
   "execution_count": 10,
   "metadata": {
    "collapsed": false
   },
   "outputs": [
    {
     "name": "stdout",
     "output_type": "stream",
     "text": [
      "64\n"
     ]
    }
   ],
   "source": [
    "print(len(idba_ivals_uncov))"
   ]
  },
  {
   "cell_type": "code",
   "execution_count": 11,
   "metadata": {
    "collapsed": false
   },
   "outputs": [
    {
     "name": "stdout",
     "output_type": "stream",
     "text": [
      "100020\n",
      "64\n",
      "0.90605623055\n",
      "0.895634677613\n"
     ]
    }
   ],
   "source": [
    "print len(megahit_coords)\n",
    "print len(refsizes)\n",
    "\n",
    "print calc_coverage(megahit_ivals)\n",
    "print calc_coverage(idba_ivals)"
   ]
  },
  {
   "cell_type": "code",
   "execution_count": 12,
   "metadata": {
    "collapsed": false
   },
   "outputs": [],
   "source": [
    "missing_refs = set()\n",
    "for s1, e1, s2, e2, ident, name1, name2 in megahit_coords:\n",
    "    if name1 not in refsizes:\n",
    "        assert 0\n"
   ]
  },
  {
   "cell_type": "code",
   "execution_count": 13,
   "metadata": {
    "collapsed": false
   },
   "outputs": [
    {
     "data": {
      "text/plain": [
       "0.74722344706737653"
      ]
     },
     "execution_count": 13,
     "metadata": {},
     "output_type": "execute_result"
    }
   ],
   "source": [
    "k = 'Shewanella_baltica_OS185'\n",
    "sum(idba_ivals[k]) / len(idba_ivals[k])\n"
   ]
  },
  {
   "cell_type": "code",
   "execution_count": 16,
   "metadata": {
    "collapsed": true
   },
   "outputs": [],
   "source": [
    "neither = 0.\n",
    "both = 0.\n",
    "either = 0.\n",
    "\n",
    "for k in megahit_ivals:\n",
    "    final = megahit_ivals_uncov[k] + idba_ivals_uncov[k]\n",
    "    neither += len(numpy.where(final == 0)[0])\n",
    "    either += len(numpy.where(final == 1)[0])\n",
    "    both += len(numpy.where(final == 2)[0])"
   ]
  },
  {
   "cell_type": "code",
   "execution_count": 17,
   "metadata": {
    "collapsed": false
   },
   "outputs": [
    {
     "name": "stdout",
     "output_type": "stream",
     "text": [
      "180196380.0 10665463.0 14741872.0\n"
     ]
    }
   ],
   "source": [
    "print neither, either, both"
   ]
  },
  {
   "cell_type": "code",
   "execution_count": 18,
   "metadata": {
    "collapsed": false
   },
   "outputs": [
    {
     "name": "stdout",
     "output_type": "stream",
     "text": [
      "0.876425700771\n",
      "0.0518738827263\n",
      "0.0717004165027\n"
     ]
    }
   ],
   "source": [
    "total = neither + either + both\n",
    "print neither /total\n",
    "print either/total\n",
    "print both/total"
   ]
  },
  {
   "cell_type": "code",
   "execution_count": null,
   "metadata": {
    "collapsed": true
   },
   "outputs": [],
   "source": []
  }
 ],
 "metadata": {
  "kernelspec": {
   "display_name": "Python 2",
   "language": "python",
   "name": "python2"
  },
  "language_info": {
   "codemirror_mode": {
    "name": "ipython",
    "version": 2
   },
   "file_extension": ".py",
   "mimetype": "text/x-python",
   "name": "python",
   "nbconvert_exporter": "python",
   "pygments_lexer": "ipython2",
   "version": "2.7.3"
  }
 },
 "nbformat": 4,
 "nbformat_minor": 0
}
